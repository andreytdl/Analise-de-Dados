{
 "cells": [
  {
   "cell_type": "markdown",
   "metadata": {},
   "source": [
    "# Acessando a DBPedia\n",
    "\n",
    "Considere a página na Wikipedia do livro [The Tin Drum](https://en.wikipedia.org/wiki/The_Tin_Drum).\n",
    "\n",
    "Há um nó equivalente na DBPedia em [The Tin Drum](http://dbpedia.org/page/The_Tin_Drum).\n",
    "\n",
    "## Carregando um nó da DBPedia\n",
    "\n",
    "A partir do que aprendemos na aula sobre APIs, é possível carregar o conteúdo em JSON desse nó da seguinte maneira:"
   ]
  },
  {
   "cell_type": "code",
   "execution_count": 1,
   "metadata": {},
   "outputs": [
    {
     "name": "stdout",
     "output_type": "stream",
     "text": [
      "{ \"d\" : { \n",
      "  \"results\": [ \n",
      "    { \"__metadata\": { \"uri\": \"http://dbpedia.org/resource/The_Tin_Drum\" }, \n",
      "      \"http://dbpedia.org/ontology/abstract\": \"O tambor (no original em alemão, Die Blechtrommel) é um romance de crítica social publicado em 1959 pelo intelectual e escritor alemão Günter Grass (ou Günter Graß).\", \n",
      "      \"http://dbpedia.org/ontology/translator\": { \"__deferred\": { \"uri\": \"http://dbpedia.org/resource/Ralph_Manheim\" } }, \n",
      "      \"http://www.w3.org/2000/01/rdf-schema#label\": \"Le Tambour\", \n",
      "      \"http://dbpedia.org/ontology/wikiPageExternalLink\": { \"__deferred\": { \"uri\": \"http://www.dieterwunderlich.de/Grass_blechtrommel.htm\" } }, \n",
      "      \"http://purl.org/dc/terms/subject\": { \"__deferred\": { \"uri\": \"http://dbpedia.org/resource/Category:Nazis_in_fiction\" } }, \n",
      "      \"http://purl.org/dc/terms/subject\": { \"__deferred\": { \"uri\": \"http://dbpedia.org/resource/Category:German_novels_adapted_into_films\" } }, \n",
      "      \"http://purl.org/dc/terms/subject\": { \"__deferred\": { \"uri\": \"http://dbpedia.org/resource/Category:Picaresque_novels\" } }, \n",
      "      \"http://www.w3.org/1999/02/22-rdf-syntax-ns#type\": { \"__deferred\": { \"uri\": \"http://dbpedia.org/class/yago/Abstraction100002137\" } }, \n",
      "      \"http://www.w3.org/1999/02/22-rdf-syntax-ns#type\": { \"__deferred\": { \"uri\": \"http://www.wikidata.org/entity/Q571\" } }, \n",
      "      \"http://www.w3.org/2000/01/rdf-schema#comment\": \"『ブリキの太鼓』（ブリキのたいこ、Die Blechtrommel）は、ドイツの作家ギュンター・グラスが1959年に発表した処女作であり長篇小説である。『猫と鼠』（1961年）、『犬の年』（1963年）と続く、いわゆる「ダンツィヒ三部作」の最初を飾る作品であり、第二次世界大戦後のドイツ文学における最も重要な作品の一つに数えられる。1979年にフォルカー・シュレンドルフによって映画化された。\", \n",
      "      \"http://dbpedia.org/ontology/abstract\": \"طبل الصفيح، (ألمانية: Die Blechtrommel) رواية (أدب) للكاتب الألماني غونتر غراس نشرت عام 1959. أنتجت فيلماً طبل الصفيح (فيلم) حاز على جائزة السعفة الذهبية وجائزة الأوسكار لأفضل فيلم بلغة أجنبية.\", \n",
      "      \"http://www.w3.org/2000/01/rdf-schema#label\": \"طبل الصفيح (رواية)\", \n",
      "      \"http://www.w3.org/2000/01/rdf-schema#comment\": \"The Tin Drum (German: Die Blechtrommel) is a 1959 novel by Günter Grass. The novel is the first book of Grass&#39;s Danziger Trilogie (Danzig Trilogy). It was adapted into a 1979 film, which won both the Palme d&#39;Or, in the same year, and the Academy Award for Best Foreign Language Film the following year.\", \n",
      "      \"http://www.w3.org/2000/01/rdf-schema#label\": \"De blikken trommel\", \n",
      "      \"http://dbpedia.org/ontology/abstract\": \"El tambor de hojalata (en alemán: Die Blechtrommel) es una novela escrita por el premio Nobel alemán Günter Grass, publicada en 1959. Sus páginas relatan la vida de Oscar Matzerath, un niño que vive durante la época de la Segunda Guerra Mundial (1939 - 1945), en una narración con tintes macabros e infantiles. El libro narra los momentos decisivos en la vida de Oscar, que lo llevarán, a los 29 años de edad, a ser internado en un sanatorio psiquiátrico.\", \n",
      "      \"http://www.w3.org/2002/07/owl#sameAs\": { \"__deferred\": { \"uri\": \"http://d-nb.info/gnd/4099211-1\" } }, \n",
      "      \"http://purl.org/dc/terms/subject\": { \"__deferred\": { \"uri\": \"http://dbpedia.org/resource/Category:1959_novels\" } }, \n",
      "      \"http://www.w3.org/2000/01/rdf-schema#label\": \"The Tin Drum\", \n",
      "      \"http://www.w3.org/2002/07/owl#sameAs\": { \"__deferred\": { \"uri\": \"http://fr.dbpedia.org/resource/Le_Tambour\" } }, \n",
      "      \"http://www.w3.org/2002/07/owl#sameAs\": { \"__deferred\": { \"uri\": \"http://yago-knowledge.org/resource/The_Tin_Drum\" } }, \n",
      "      \"http://dbpedia.org/ontology/author\": { \"__deferred\": { \"uri\": \"http://dbpedia.org/resource/Günter_Grass\" } }, \n",
      "      \"http://www.w3.org/1999/02/22-rdf-syntax-ns#type\": { \"__deferred\": { \"uri\": \"http://dbpedia.org/class/yago/PsychologicalFeature100023100\" } }, \n",
      "      \"http://www.w3.org/2002/07/owl#sameAs\": { \"__deferred\": { \"uri\": \"http://eu.dbpedia.org/resource/Latorrizko_danborra\" } }, \n",
      "      \"http://purl.org/dc/terms/subject\": { \"__deferred\": { \"uri\": \"http://dbpedia.org/resource/Category:Danzig_Trilogy\" } }, \n",
      "      \"http://www.w3.org/1999/02/22-rdf-syntax-ns#type\": { \"__deferred\": { \"uri\": \"http://dbpedia.org/class/yago/WikicatWorldWarIINovels\" } }, \n",
      "      \"http://www.w3.org/1999/02/22-rdf-syntax-ns#type\": { \"__deferred\": { \"uri\": \"http://schema.org/Book\" } }, \n",
      "      \"http://www.w3.org/1999/02/22-rdf-syntax-ns#type\": { \"__deferred\": { \"uri\": \"http://dbpedia.org/class/yago/WikicatAnti-warNovels\" } }, \n",
      "      \"http://www.w3.org/2000/01/rdf-schema#comment\": \"El tambor de hojalata (en alemán: Die Blechtrommel) es una novela escrita por el premio Nobel alemán Günter Grass, publicada en 1959. Sus páginas relatan la vida de Oscar Matzerath, un niño que vive durante la época de la Segunda Guerra Mundial (1939 - 1945), en una narración con tintes macabros e infantiles. El libro narra los momentos decisivos en la vida de Oscar, que lo llevarán, a los 29 años de edad, a ser internado en un sanatorio psiquiátrico.\", \n",
      "      \"http://dbpedia.org/ontology/wikiPageExternalLink\": { \"__deferred\": { \"uri\": \"http://www.conceptualfiction.com/the_tin_drum.html\" } }, \n",
      "      \"http://www.w3.org/2000/01/rdf-schema#comment\": \"《铁皮鼓》（Die Blechtrommel）是君特·格拉斯1959年写的小说，为作者惊世之作“但泽三部曲”的第一部。故事以第一人称描述，即由主人公奥斯卡自述人生经历。小说的主要素材则是作者格拉斯本人的经历与见闻。曾被改编成同名电影搬上银幕，获得1980年度奥斯卡最佳外语片奖。1990年3月，《铁皮鼓》中译本由上海译文出版社首次出版。\", \n",
      "      \"http://dbpedia.org/ontology/subsequentWork\": { \"__deferred\": { \"uri\": \"http://dbpedia.org/resource/Cat_and_Mouse_(novella)\" } }, \n",
      "      \"http://dbpedia.org/ontology/wikiPageExternalLink\": { \"__deferred\": { \"uri\": \"http://www.bbc.co.uk/podcasts/series/wbc/all\" } }, \n",
      "      \"http://www.w3.org/1999/02/22-rdf-syntax-ns#type\": { \"__deferred\": { \"uri\": \"http://dbpedia.org/class/yago/LiteraryComposition106364329\" } }, \n",
      "      \"http://www.w3.org/1999/02/22-rdf-syntax-ns#type\": { \"__deferred\": { \"uri\": \"http://dbpedia.org/class/yago/Fiction106367107\" } }, \n",
      "      \"http://dbpedia.org/ontology/country\": { \"__deferred\": { \"uri\": \"http://dbpedia.org/resource/West_Germany\" } }, \n",
      "      \"http://www.w3.org/2000/01/rdf-schema#comment\": \"«Жестяной барабан» (нем. Die Blechtrommel) — дебютный (и наиболее известный) роман немецкого писателя Гюнтера Грасса. Роман опубликован в 1959 году и является ядром «данцигской трилогии» Грасса. В центре повествования — история мальчика Оскара Мацерата, который с приходом к власти в Германии национал-социалистов, отказывается расти в знак протеста против происходящих в обществе перемен.\", \n",
      "      \"http://www.w3.org/2002/07/owl#sameAs\": { \"__deferred\": { \"uri\": \"http://pt.dbpedia.org/resource/O_Tambor\" } }, \n",
      "      \"http://www.w3.org/2000/01/rdf-schema#label\": \"Blaszany bębenek\", \n",
      "      \"http://www.w3.org/2002/07/owl#sameAs\": { \"__deferred\": { \"uri\": \"http://rdf.freebase.com/ns/m.02zths\" } }, \n",
      "      \"http://www.w3.org/1999/02/22-rdf-syntax-ns#type\": { \"__deferred\": { \"uri\": \"http://dbpedia.org/class/yago/Communication100033020\" } }, \n",
      "      \"http://www.w3.org/1999/02/22-rdf-syntax-ns#type\": { \"__deferred\": { \"uri\": \"http://dbpedia.org/class/yago/Wikicat1959Novels\" } }, \n",
      "      \"http://dbpedia.org/ontology/publisher\": { \"__deferred\": { \"uri\": \"http://dbpedia.org/resource/Hermann_Luchterhand_Verlag\" } }, \n",
      "      \"http://www.w3.org/1999/02/22-rdf-syntax-ns#type\": { \"__deferred\": { \"uri\": \"http://dbpedia.org/class/yago/Writing106362953\" } }, \n",
      "      \"http://www.w3.org/2002/07/owl#sameAs\": { \"__deferred\": { \"uri\": \"http://de.dbpedia.org/resource/Die_Blechtrommel\" } }, \n",
      "      \"http://www.w3.org/2000/01/rdf-schema#label\": \"ブリキの太鼓\", \n",
      "      \"http://www.w3.org/1999/02/22-rdf-syntax-ns#type\": { \"__deferred\": { \"uri\": \"http://www.w3.org/2002/07/owl#Thing\" } }, \n",
      "      \"http://www.w3.org/2002/07/owl#sameAs\": { \"__deferred\": { \"uri\": \"http://ja.dbpedia.org/resource/ブリキの太鼓\" } }, \n",
      "      \"http://www.w3.org/2000/01/rdf-schema#comment\": \"طبل الصفيح، (ألمانية: Die Blechtrommel) رواية (أدب) للكاتب الألماني غونتر غراس نشرت عام 1959. أنتجت فيلماً طبل الصفيح (فيلم) حاز على جائزة السعفة الذهبية وجائزة الأوسكار لأفضل فيلم بلغة أجنبية.\", \n",
      "      \"http://www.w3.org/1999/02/22-rdf-syntax-ns#type\": { \"__deferred\": { \"uri\": \"http://dbpedia.org/ontology/Book\" } }, \n",
      "      \"http://dbpedia.org/ontology/numberOfPages\": \"576\", \n",
      "      \"http://purl.org/dc/terms/subject\": { \"__deferred\": { \"uri\": \"http://dbpedia.org/resource/Category:Novels_by_Günter_Grass\" } }, \n",
      "      \"http://xmlns.com/foaf/0.1/isPrimaryTopicOf\": { \"__deferred\": { \"uri\": \"http://en.wikipedia.org/wiki/The_Tin_Drum\" } }, \n",
      "      \"http://xmlns.com/foaf/0.1/name\": \"The Tin Drum\", \n",
      "      \"http://dbpedia.org/property/language\": \"German\", \n",
      "      \"http://dbpedia.org/property/englishReleaseDate\": \"1961\", \n",
      "      \"http://www.w3.org/2002/07/owl#sameAs\": { \"__deferred\": { \"uri\": \"http://it.dbpedia.org/resource/Il_tamburo_di_latta_(romanzo)\" } }, \n",
      "      \"http://www.w3.org/1999/02/22-rdf-syntax-ns#type\": { \"__deferred\": { \"uri\": \"http://purl.org/ontology/bibo/Book\" } }, \n",
      "      \"http://purl.org/dc/terms/subject\": { \"__deferred\": { \"uri\": \"http://dbpedia.org/resource/Category:German_magic_realism_novels\" } }, \n",
      "      \"http://dbpedia.org/ontology/abstract\": \"Il tamburo di latta è un romanzo del 1959 di Günter Grass, opera d&#39;esordio dell&#39;autore e primo scritto della Trilogia di Danzica, che comprende anche Gatto e topo (Katz und Maus , 1961) e Anni di cani (Hundejahre, 1963).\", \n",
      "      \"http://www.w3.org/1999/02/22-rdf-syntax-ns#type\": { \"__deferred\": { \"uri\": \"http://dbpedia.org/class/yago/WikicatPicaresqueNovels\" } }, \n",
      "      \"http://www.w3.org/2000/01/rdf-schema#label\": \"Il tamburo di latta (romanzo)\", \n",
      "      \"http://www.w3.org/1999/02/22-rdf-syntax-ns#type\": { \"__deferred\": { \"uri\": \"http://dbpedia.org/class/yago/WikicatObscenityControversies\" } }, \n",
      "      \"http://purl.org/linguistics/gold/hypernym\": { \"__deferred\": { \"uri\": \"http://dbpedia.org/resource/Novel\" } }, \n",
      "      \"http://dbpedia.org/ontology/wikiPageRevisionID\": \"742632343\", \n",
      "      \"http://dbpedia.org/property/caption\": \"First German edition\", \n",
      "      \"http://www.w3.org/1999/02/22-rdf-syntax-ns#type\": { \"__deferred\": { \"uri\": \"http://dbpedia.org/class/yago/YagoPermanentlyLocatedEntity\" } }, \n",
      "      \"http://www.w3.org/2000/01/rdf-schema#label\": \"铁皮鼓\", \n",
      "      \"http://www.w3.org/1999/02/22-rdf-syntax-ns#type\": { \"__deferred\": { \"uri\": \"http://dbpedia.org/class/yago/Dispute107181935\" } }, \n",
      "      \"http://dbpedia.org/ontology/abstract\": \"«Жестяной барабан» (нем. Die Blechtrommel) — дебютный (и наиболее известный) роман немецкого писателя Гюнтера Грасса. Роман опубликован в 1959 году и является ядром «данцигской трилогии» Грасса. В центре повествования — история мальчика Оскара Мацерата, который с приходом к власти в Германии национал-социалистов, отказывается расти в знак протеста против происходящих в обществе перемен.\", \n",
      "      \"http://www.w3.org/2002/07/owl#sameAs\": { \"__deferred\": { \"uri\": \"http://wikidata.dbpedia.org/resource/Q899334\" } }, \n",
      "      \"http://dbpedia.org/ontology/wikiPageID\": \"642383\", \n",
      "      \"http://www.w3.org/1999/02/22-rdf-syntax-ns#type\": { \"__deferred\": { \"uri\": \"http://dbpedia.org/class/yago/Controversy107183151\" } }, \n",
      "      \"http://dbpedia.org/ontology/abstract\": \"Le Tambour (titre original en allemand : Die Blechtrommel) est un roman de Günter Grass paru en 1959, dans une traduction de Jean Amsler publiée aux éditions du Seuil en 1961. Une nouvelle traduction, de Claude Porcell, sort en 2009 chez le même éditeur. Le Tambour est le premier volume de la Trilogie de Dantzig que complètent Le Chat et la souris et Les Années de chien. Le héros du roman, Oscar Matzerath (en allemand Oskar), est un jeune garçon de Dantzig qui, à partir de l&#39;âge de trois ans, refuse de grandir, et s&#39;adjoint un tambour dont il ne se sépare plus. À travers son parcours, Grass dessine une fresque picaresque, truculente et sarcastique de l&#39;Allemagne du Nord, de Dantzig à Düsseldorf, et de l&#39;Empire allemand au Wirtschaftswunder. Le roman a connu un succès planétaire lors de sa publication et est rapidement devenu un classique. Son influence sur la littérature mondiale est considérable. Il est reconnu comme l&#39;un des plus grands romans allemands de l&#39;après-guerre et l&#39;un des ouvrages littéraires majeurs de la seconde moitié du XXe siècle.\", \n",
      "      \"http://dbpedia.org/ontology/dcc\": \"833.914\", \n",
      "      \"http://www.w3.org/2000/01/rdf-schema#comment\": \"Die Blechtrommel ist ein Roman von Günter Grass. Er erschien 1959 als Auftakt der Danziger Trilogie und gehört zu den wichtigsten Romanen der deutschen Nachkriegsliteratur. Der Roman lässt sich als historischer Roman, Zeitroman, Schelmenroman und Entwicklungsroman charakterisieren.\", \n",
      "      \"http://www.w3.org/2000/01/rdf-schema#comment\": \"Blaszany bębenek (niem. Die Blechtrommel) – powieść Güntera Grassa wydana w 1959 roku, pierwsza część tzw. „Trylogii gdańskiej”. Książka weszła do kanonu niemieckiej literatury powojennej. W 1979 roku powstała ekranizacja w reżyserii Volkera Schlöndorffa, która zdobyła Oscara na najlepszy film nieanglojęzyczny.\", \n",
      "      \"http://purl.org/dc/terms/subject\": { \"__deferred\": { \"uri\": \"http://dbpedia.org/resource/Category:Anti-war_novels\" } }, \n",
      "      \"http://xmlns.com/foaf/0.1/name\": \"Die Blechtrommel\", \n",
      "      \"http://www.w3.org/ns/prov#wasDerivedFrom\": { \"__deferred\": { \"uri\": \"http://en.wikipedia.org/wiki/The_Tin_Drum?oldid=742632343\" } }, \n",
      "      \"http://www.w3.org/2000/01/rdf-schema#label\": \"El tambor de hojalata (novela)\", \n",
      "      \"http://www.w3.org/1999/02/22-rdf-syntax-ns#type\": { \"__deferred\": { \"uri\": \"http://dbpedia.org/class/yago/WikicatGerman-languageNovels\" } }, \n",
      "      \"http://www.w3.org/2000/01/rdf-schema#label\": \"Жестяной барабан (роман)\", \n",
      "      \"http://dbpedia.org/ontology/oclc\": \"3618781\", \n",
      "      \"http://www.w3.org/1999/02/22-rdf-syntax-ns#type\": { \"__deferred\": { \"uri\": \"http://dbpedia.org/class/yago/Act100030358\" } }, \n",
      "      \"http://dbpedia.org/ontology/literaryGenre\": { \"__deferred\": { \"uri\": \"http://dbpedia.org/resource/Postmodernism\" } }, \n",
      "      \"http://dbpedia.org/ontology/abstract\": \"《铁皮鼓》（Die Blechtrommel）是君特·格拉斯1959年写的小说，为作者惊世之作“但泽三部曲”的第一部。故事以第一人称描述，即由主人公奥斯卡自述人生经历。小说的主要素材则是作者格拉斯本人的经历与见闻。曾被改编成同名电影搬上银幕，获得1980年度奥斯卡最佳外语片奖。1990年3月，《铁皮鼓》中译本由上海译文出版社首次出版。\", \n",
      "      \"http://www.w3.org/2002/07/owl#sameAs\": { \"__deferred\": { \"uri\": \"http://cs.dbpedia.org/resource/Plechový_bubínek\" } }, \n",
      "      \"http://www.w3.org/2000/01/rdf-schema#comment\": \"De blikken trommel (Duits: Die Blechtrommel) is een roman van de Duitse schrijver Günter Grass. Het boek verscheen in 1959 als eerste deel van de zogenaamde Danziger Trilogie. Die Blechtrommel is een van de belangrijkste romans van de Duitse literatuur van na 1945. Een Nederlandse vertaling door Koos Schuur verscheen in 1964 onder de titel De blikken trommel, in 2009 verscheen een nieuwe vertaling door Jan Gielkens onder de titel De blikken trom.\", \n",
      "      \"http://dbpedia.org/ontology/coverArtist\": { \"__deferred\": { \"uri\": \"http://dbpedia.org/resource/Günter_Grass\" } }, \n",
      "      \"http://www.w3.org/1999/02/22-rdf-syntax-ns#type\": { \"__deferred\": { \"uri\": \"http://dbpedia.org/class/yago/WikicatGermanNovels\" } }, \n",
      "      \"http://www.w3.org/2000/01/rdf-schema#comment\": \"Il tamburo di latta è un romanzo del 1959 di Günter Grass, opera d&#39;esordio dell&#39;autore e primo scritto della Trilogia di Danzica, che comprende anche Gatto e topo (Katz und Maus , 1961) e Anni di cani (Hundejahre, 1963).\", \n",
      "      \"http://www.w3.org/2000/01/rdf-schema#comment\": \"O tambor (no original em alemão, Die Blechtrommel) é um romance de crítica social publicado em 1959 pelo intelectual e escritor alemão Günter Grass (ou Günter Graß).\", \n",
      "      \"http://www.w3.org/2002/07/owl#sameAs\": { \"__deferred\": { \"uri\": \"http://pl.dbpedia.org/resource/Blaszany_bębenek\" } }, \n",
      "      \"http://www.w3.org/2002/07/owl#sameAs\": { \"__deferred\": { \"uri\": \"http://es.dbpedia.org/resource/El_tambor_de_hojalata_(novela)\" } }, \n",
      "      \"http://purl.org/dc/elements/1.1/publisher\": \"Hermann Luchterhand Verlag\", \n",
      "      \"http://dbpedia.org/ontology/abstract\": \"De blikken trommel (Duits: Die Blechtrommel) is een roman van de Duitse schrijver Günter Grass. Het boek verscheen in 1959 als eerste deel van de zogenaamde Danziger Trilogie. Die Blechtrommel is een van de belangrijkste romans van de Duitse literatuur van na 1945. Een Nederlandse vertaling door Koos Schuur verscheen in 1964 onder de titel De blikken trommel, in 2009 verscheen een nieuwe vertaling door Jan Gielkens onder de titel De blikken trom.\", \n",
      "      \"http://dbpedia.org/property/releaseDate\": \"1959\", \n",
      "      \"http://www.w3.org/2000/01/rdf-schema#label\": \"O Tambor\", \n",
      "      \"http://www.w3.org/2002/07/owl#sameAs\": { \"__deferred\": { \"uri\": \"http://nl.dbpedia.org/resource/De_blikken_trommel\" } }, \n",
      "      \"http://dbpedia.org/ontology/series\": { \"__deferred\": { \"uri\": \"http://dbpedia.org/resource/Danzig_Trilogy\" } }, \n",
      "      \"http://www.w3.org/1999/02/22-rdf-syntax-ns#type\": { \"__deferred\": { \"uri\": \"http://dbpedia.org/class/yago/Disagreement107180787\" } }, \n",
      "      \"http://www.w3.org/1999/02/22-rdf-syntax-ns#type\": { \"__deferred\": { \"uri\": \"http://dbpedia.org/class/yago/Novel106367879\" } }, \n",
      "      \"http://www.w3.org/1999/02/22-rdf-syntax-ns#type\": { \"__deferred\": { \"uri\": \"http://dbpedia.org/class/yago/SpeechAct107160883\" } }, \n",
      "      \"http://www.w3.org/1999/02/22-rdf-syntax-ns#type\": { \"__deferred\": { \"uri\": \"http://www.wikidata.org/entity/Q386724\" } }, \n",
      "      \"http://www.w3.org/1999/02/22-rdf-syntax-ns#type\": { \"__deferred\": { \"uri\": \"http://dbpedia.org/class/yago/WrittenCommunication106349220\" } }, \n",
      "      \"http://www.w3.org/1999/02/22-rdf-syntax-ns#type\": { \"__deferred\": { \"uri\": \"http://dbpedia.org/ontology/Work\" } }, \n",
      "      \"http://dbpedia.org/ontology/abstract\": \"Blaszany bębenek (niem. Die Blechtrommel) – powieść Güntera Grassa wydana w 1959 roku, pierwsza część tzw. „Trylogii gdańskiej”. Książka weszła do kanonu niemieckiej literatury powojennej. W 1979 roku powstała ekranizacja w reżyserii Volkera Schlöndorffa, która zdobyła Oscara na najlepszy film nieanglojęzyczny. Główny bohater powieści Oskar Matzerath został w 2002 r. upamiętniony pomnikiem-ławeczką w gdańskim Wrzeszczu przy pl. Wybickiego. W 2015 podjęto decyzję, że zgodnie z pierwotną koncepcją do postaci Oskara dołączy jego zmarły twórca Günter Grass, z nieodłączną fajką w reku oraz nawiązującymi do jego twórczości figurkami ślimaka i kumaka. Figura zmarłego noblisty została odsłonięta 16.10.2015.\", \n",
      "      \"http://dbpedia.org/ontology/abstract\": \"『ブリキの太鼓』（ブリキのたいこ、Die Blechtrommel）は、ドイツの作家ギュンター・グラスが1959年に発表した処女作であり長篇小説である。『猫と鼠』（1961年）、『犬の年』（1963年）と続く、いわゆる「ダンツィヒ三部作」の最初を飾る作品であり、第二次世界大戦後のドイツ文学における最も重要な作品の一つに数えられる。1979年にフォルカー・シュレンドルフによって映画化された。\", \n",
      "      \"http://www.w3.org/2002/07/owl#sameAs\": { \"__deferred\": { \"uri\": \"http://www.wikidata.org/entity/Q899334\" } }, \n",
      "      \"http://www.w3.org/1999/02/22-rdf-syntax-ns#type\": { \"__deferred\": { \"uri\": \"http://schema.org/CreativeWork\" } }, \n",
      "      \"http://www.w3.org/2000/01/rdf-schema#comment\": \"Le Tambour (titre original en allemand : Die Blechtrommel) est un roman de Günter Grass paru en 1959, dans une traduction de Jean Amsler publiée aux éditions du Seuil en 1961. Une nouvelle traduction, de Claude Porcell, sort en 2009 chez le même éditeur. Le Tambour est le premier volume de la Trilogie de Dantzig que complètent Le Chat et la souris et Les Années de chien.\", \n",
      "      \"http://dbpedia.org/ontology/abstract\": \"Die Blechtrommel ist ein Roman von Günter Grass. Er erschien 1959 als Auftakt der Danziger Trilogie und gehört zu den wichtigsten Romanen der deutschen Nachkriegsliteratur. Der Roman lässt sich als historischer Roman, Zeitroman, Schelmenroman und Entwicklungsroman charakterisieren.\", \n",
      "      \"http://www.w3.org/1999/02/22-rdf-syntax-ns#type\": { \"__deferred\": { \"uri\": \"http://dbpedia.org/ontology/WrittenWork\" } }, \n",
      "      \"http://www.w3.org/1999/02/22-rdf-syntax-ns#type\": { \"__deferred\": { \"uri\": \"http://dbpedia.org/class/yago/WikicatGermanMagicRealismNovels\" } }, \n",
      "      \"http://www.w3.org/1999/02/22-rdf-syntax-ns#type\": { \"__deferred\": { \"uri\": \"http://dbpedia.org/class/yago/Event100029378\" } }, \n",
      "      \"http://purl.org/dc/terms/subject\": { \"__deferred\": { \"uri\": \"http://dbpedia.org/resource/Category:Obscenity_controversies_in_literature\" } }, \n",
      "      \"http://dbpedia.org/ontology/translator\": { \"__deferred\": { \"uri\": \"http://dbpedia.org/resource/Breon_Mitchell\" } }, \n",
      "      \"http://dbpedia.org/ontology/abstract\": \"The Tin Drum (German: Die Blechtrommel) is a 1959 novel by Günter Grass. The novel is the first book of Grass&#39;s Danziger Trilogie (Danzig Trilogy). It was adapted into a 1979 film, which won both the Palme d&#39;Or, in the same year, and the Academy Award for Best Foreign Language Film the following year.\", \n",
      "      \"http://www.w3.org/1999/02/22-rdf-syntax-ns#type\": { \"__deferred\": { \"uri\": \"http://dbpedia.org/class/yago/WikicatNovelsByGünterGrass\" } }, \n",
      "      \"http://www.w3.org/2000/01/rdf-schema#label\": \"Die Blechtrommel\"\n",
      "     } \n",
      " ], \"__count\": \"1\"\n",
      " } }\n"
     ]
    }
   ],
   "source": [
    "import io\n",
    "import requests\n",
    "import json\n",
    "url_drum = \"http://dbpedia.org/data/The_Tin_Drum.jsod\"\n",
    "js_drum = requests.get(url_drum)\n",
    "print(js_drum.content.decode(\"utf-8\"))"
   ]
  },
  {
   "cell_type": "markdown",
   "metadata": {},
   "source": [
    "# Acessando e navegando pelo Grafo\n",
    "### Quem é autor de The Tin Drum?"
   ]
  },
  {
   "cell_type": "code",
   "execution_count": 2,
   "metadata": {},
   "outputs": [
    {
     "name": "stdout",
     "output_type": "stream",
     "text": [
      "Autor de The Tin Drum: http://dbpedia.org/resource/Günter_Grass\n"
     ]
    }
   ],
   "source": [
    "json_drum = js_drum.json()\n",
    "url_grass = json_drum[\"d\"][\"results\"][0][\"http://dbpedia.org/ontology/author\"][\"__deferred\"][\"uri\"]\n",
    "print(\"Autor de The Tin Drum: \" + url_grass)"
   ]
  },
  {
   "cell_type": "markdown",
   "metadata": {},
   "source": [
    "## Tarefa\n",
    "\n",
    "### Carregue o nó de Günter Grass em Python e mostre o conteúdo JSON."
   ]
  },
  {
   "cell_type": "code",
   "execution_count": 14,
   "metadata": {},
   "outputs": [
    {
     "name": "stdout",
     "output_type": "stream",
     "text": [
      "Nó Carregado:\n",
      "{'__metadata': {'uri': 'http://dbpedia.org/resource/Günter_Grass'}, 'http://dbpedia.org/ontology/abstract': 'Günter Wilhelm Grass, né le 16 octobre 1927 à Danzig-Langfuhr et mort le 13 avril 2015 à Lübeck, est un écrivain et artiste allemand. Lauréat du prix Nobel de littérature en 1999, Grass est principalement connu pour son roman Le Tambour. Marquée par l&#39;expérience traumatique du nazisme, son œuvre, baroque et ironique, puise son inspiration dans son origine germano-polonaise et condense réalisme et mythe afin d&#39;explorer les méandres de l&#39;Histoire, la mémoire et la culpabilité. Considéré comme l&#39;un des plus grands écrivains allemands contemporains et le plus célèbre auteur germanophone de la seconde moitié du XXe siècle, il est aussi remarqué pour ses prises de positions politiques à l&#39;origine de nombreuses controverses en Allemagne et à l&#39;international.', 'http://www.w3.org/1999/02/22-rdf-syntax-ns#type': {'__deferred': {'uri': 'http://dbpedia.org/class/yago/WikicatGermanNovelists'}}, 'http://www.w3.org/2000/01/rdf-schema#label': 'Günter Grass', 'http://www.w3.org/2002/07/owl#sameAs': {'__deferred': {'uri': 'http://pl.dbpedia.org/resource/Günter_Grass'}}, 'http://purl.org/dc/terms/description': 'German novelist, poet, playwright, illustrator, graphic artist, sculptor', 'http://www.w3.org/ns/prov#wasDerivedFrom': {'__deferred': {'uri': 'http://en.wikipedia.org/wiki/Günter_Grass?oldid=744781559'}}, 'http://dbpedia.org/property/title': 'Awards received by Günter Grass', 'http://dbpedia.org/ontology/activeYearsEndYear': '2013', 'http://www.w3.org/2000/01/rdf-schema#comment': 'Günter Wilhelm Grass (ur. 16 października 1927 w Gdańsku, zm. 13 kwietnia 2015 w Lubece) – niemiecki pisarz narodowości niemiecko-kaszubskiej, laureat Nagrody Nobla w dziedzinie literatury w 1999 roku. Doktor honoris causa Uniwersytetu Gdańskiego (za wybitną twórczość literacką oraz wkład w polsko-niemieckie pojednanie) oraz Uniwersytetu im. Adama Mickiewicza w Poznaniu. W 1993 Rada Miasta przyznała pisarzowi tytuł Honorowego Obywatela Miasta Gdańska.', 'http://purl.org/dc/terms/subject': {'__deferred': {'uri': 'http://dbpedia.org/resource/Category:Writers_who_illustrated_their_own_writing'}}, 'http://dbpedia.org/ontology/wikiPageID': '23473348', 'http://xmlns.com/foaf/0.1/depiction': {'__deferred': {'uri': 'http://commons.wikimedia.org/wiki/Special:FilePath/Günter_Grass_auf_dem_Blauen_Sofa.jpg'}}, 'http://dbpedia.org/ontology/notableWork': {'__deferred': {'uri': 'http://dbpedia.org/resource/Crabwalk'}}, 'http://dbpedia.org/property/signature': 'Günter Grass signature new.svg', 'http://dbpedia.org/property/years': '2012', 'http://dbpedia.org/ontology/birthPlace': {'__deferred': {'uri': 'http://dbpedia.org/resource/Wrzeszcz'}}, 'http://dbpedia.org/ontology/language': {'__deferred': {'uri': 'http://dbpedia.org/resource/German_language'}}, 'http://dbpedia.org/ontology/ethnicity': {'__deferred': {'uri': 'http://dbpedia.org/resource/German_language'}}, 'http://dbpedia.org/ontology/movement': {'__deferred': {'uri': 'http://dbpedia.org/resource/Vergangenheitsbewältigung'}}, 'http://xmlns.com/foaf/0.1/gender': 'male', 'http://xmlns.com/foaf/0.1/name': 'Günter Grass', 'http://dbpedia.org/property/caption': 'Günter Grass in 2006', 'http://dbpedia.org/ontology/deathDate': '2015-4-13', 'http://dbpedia.org/ontology/birthName': 'Günter Wilhelm Graß', 'http://xmlns.com/foaf/0.1/givenName': 'Günter', 'http://dbpedia.org/property/before': 'Henrik, Prince of Denmark', 'http://xmlns.com/foaf/0.1/surname': 'Grass', 'http://dbpedia.org/ontology/activeYearsStartYear': '1956', 'http://dbpedia.org/ontology/wikiPageRevisionID': '744781559', 'http://xmlns.com/foaf/0.1/isPrimaryTopicOf': {'__deferred': {'uri': 'http://en.wikipedia.org/wiki/Günter_Grass'}}, 'http://dbpedia.org/ontology/wikiPageExternalLink': {'__deferred': {'uri': 'http://www.gdansk-life.com/poland/gunter-grass'}}, 'http://purl.org/linguistics/gold/hypernym': {'__deferred': {'uri': 'http://dbpedia.org/resource/Novelist'}}, 'http://dbpedia.org/ontology/deathPlace': {'__deferred': {'uri': 'http://dbpedia.org/resource/Lübeck'}}, 'http://dbpedia.org/ontology/thumbnail': {'__deferred': {'uri': 'http://commons.wikimedia.org/wiki/Special:FilePath/Günter_Grass_auf_dem_Blauen_Sofa.jpg?width=300'}}, 'http://dbpedia.org/property/after': 'Emmelie de Forest', 'http://dbpedia.org/ontology/birthDate': '1927-10-16', 'http://dbpedia.org/ontology/occupation': {'__deferred': {'uri': 'http://dbpedia.org/resource/Graphic_designer'}}}\n"
     ]
    }
   ],
   "source": [
    "#Obtendo o autor a partir da chamada anterior\n",
    "url_gunter = url_grass.replace(\"resource\", \"data\") + \".jsod\"\n",
    "\n",
    "js_gunter = requests.get(url_gunter)\n",
    "\n",
    "json_gunter = js_gunter.json()\n",
    "\n",
    "content = json_gunter[\"d\"][\"results\"][0]\n",
    "\n",
    "print(\"Nó Carregado:\")\n",
    "print(content)"
   ]
  },
  {
   "cell_type": "markdown",
   "metadata": {},
   "source": [
    "## Tarefa\n",
    "### Quais os livros escritos por Günter Grass?"
   ]
  },
  {
   "cell_type": "code",
   "execution_count": 11,
   "metadata": {},
   "outputs": [
    {
     "name": "stdout",
     "output_type": "stream",
     "text": [
      "{'__deferred': {'uri': 'http://dbpedia.org/resource/Crabwalk'}}\n"
     ]
    }
   ],
   "source": [
    "#Livros - O professor permitiu deixar apenas o notable work\n",
    "books = content[\"http://dbpedia.org/ontology/notableWork\"]\n",
    "print(books)"
   ]
  },
  {
   "cell_type": "markdown",
   "metadata": {},
   "source": [
    "# MeSH - Medical Subject Headings\n",
    "\n",
    "## Pesquisa para humanos\n",
    "\n",
    "Através do endereço [MeSH Search](https://meshb.nlm.nih.gov/search).\n",
    "\n",
    "Procure o termo: Myocardial Infarction.\n",
    "\n",
    "## Serviços para Máquinas\n",
    "\n",
    "É possível acessar os mesmos dados pela [API JSON](https://id.nlm.nih.gov/mesh/swagger/ui).\n",
    "\n",
    "Buscando o código de Myocardial Infarction:"
   ]
  },
  {
   "cell_type": "code",
   "execution_count": 17,
   "metadata": {},
   "outputs": [
    {
     "name": "stdout",
     "output_type": "stream",
     "text": [
      "[{\"resource\":\"http://id.nlm.nih.gov/mesh/D009203\",\"label\":\"Myocardial Infarction\"}]\n"
     ]
    }
   ],
   "source": [
    "url_mi = \"https://id.nlm.nih.gov/mesh/lookup/descriptor?label=Myocardial%20Infarction&match=exact&limit=10\"\n",
    "js_mi = requests.get(url_mi)\n",
    "print(js_mi.content.decode(\"utf-8\"))"
   ]
  },
  {
   "cell_type": "markdown",
   "metadata": {},
   "source": [
    "Acessando detalhes a partir do código:"
   ]
  },
  {
   "cell_type": "code",
   "execution_count": 18,
   "metadata": {},
   "outputs": [
    {
     "name": "stdout",
     "output_type": "stream",
     "text": [
      "{\"descriptor\":\"http://id.nlm.nih.gov/mesh/D009203\",\"terms\":[{\"resource\":\"http://id.nlm.nih.gov/mesh/T027447\",\"label\":\"Myocardial Infarction\",\"preferred\":true},{\"resource\":\"http://id.nlm.nih.gov/mesh/T855594\",\"label\":\"Cardiovascular Stroke\",\"preferred\":false},{\"resource\":\"http://id.nlm.nih.gov/mesh/T000866941\",\"label\":\"Heart Attack\",\"preferred\":false},{\"resource\":\"http://id.nlm.nih.gov/mesh/T027448\",\"label\":\"Myocardial Infarct\",\"preferred\":false}],\"qualifiers\":[{\"resource\":\"http://id.nlm.nih.gov/mesh/Q000097\",\"label\":\"blood\"},{\"resource\":\"http://id.nlm.nih.gov/mesh/Q000134\",\"label\":\"cerebrospinal fluid\"},{\"resource\":\"http://id.nlm.nih.gov/mesh/Q000139\",\"label\":\"chemically induced\"},{\"resource\":\"http://id.nlm.nih.gov/mesh/Q000145\",\"label\":\"classification\"},{\"resource\":\"http://id.nlm.nih.gov/mesh/Q000150\",\"label\":\"complications\"},{\"resource\":\"http://id.nlm.nih.gov/mesh/Q000151\",\"label\":\"congenital\"},{\"resource\":\"http://id.nlm.nih.gov/mesh/Q000175\",\"label\":\"diagnosis\"},{\"resource\":\"http://id.nlm.nih.gov/mesh/Q000000981\",\"label\":\"diagnostic imaging\"},{\"resource\":\"http://id.nlm.nih.gov/mesh/Q000178\",\"label\":\"diet therapy\"},{\"resource\":\"http://id.nlm.nih.gov/mesh/Q000188\",\"label\":\"drug therapy\"},{\"resource\":\"http://id.nlm.nih.gov/mesh/Q000191\",\"label\":\"economics\"},{\"resource\":\"http://id.nlm.nih.gov/mesh/Q000196\",\"label\":\"embryology\"},{\"resource\":\"http://id.nlm.nih.gov/mesh/Q000201\",\"label\":\"enzymology\"},{\"resource\":\"http://id.nlm.nih.gov/mesh/Q000453\",\"label\":\"epidemiology\"},{\"resource\":\"http://id.nlm.nih.gov/mesh/Q000208\",\"label\":\"ethnology\"},{\"resource\":\"http://id.nlm.nih.gov/mesh/Q000209\",\"label\":\"etiology\"},{\"resource\":\"http://id.nlm.nih.gov/mesh/Q000235\",\"label\":\"genetics\"},{\"resource\":\"http://id.nlm.nih.gov/mesh/Q000266\",\"label\":\"history\"},{\"resource\":\"http://id.nlm.nih.gov/mesh/Q000276\",\"label\":\"immunology\"},{\"resource\":\"http://id.nlm.nih.gov/mesh/Q000378\",\"label\":\"metabolism\"},{\"resource\":\"http://id.nlm.nih.gov/mesh/Q000382\",\"label\":\"microbiology\"},{\"resource\":\"http://id.nlm.nih.gov/mesh/Q000401\",\"label\":\"mortality\"},{\"resource\":\"http://id.nlm.nih.gov/mesh/Q000451\",\"label\":\"nursing\"},{\"resource\":\"http://id.nlm.nih.gov/mesh/Q000469\",\"label\":\"parasitology\"},{\"resource\":\"http://id.nlm.nih.gov/mesh/Q000473\",\"label\":\"pathology\"},{\"resource\":\"http://id.nlm.nih.gov/mesh/Q000503\",\"label\":\"physiopathology\"},{\"resource\":\"http://id.nlm.nih.gov/mesh/Q000517\",\"label\":\"prevention & control\"},{\"resource\":\"http://id.nlm.nih.gov/mesh/Q000523\",\"label\":\"psychology\"},{\"resource\":\"http://id.nlm.nih.gov/mesh/Q000532\",\"label\":\"radiotherapy\"},{\"resource\":\"http://id.nlm.nih.gov/mesh/Q000534\",\"label\":\"rehabilitation\"},{\"resource\":\"http://id.nlm.nih.gov/mesh/Q000601\",\"label\":\"surgery\"},{\"resource\":\"http://id.nlm.nih.gov/mesh/Q000628\",\"label\":\"therapy\"},{\"resource\":\"http://id.nlm.nih.gov/mesh/Q000652\",\"label\":\"urine\"},{\"resource\":\"http://id.nlm.nih.gov/mesh/Q000662\",\"label\":\"veterinary\"},{\"resource\":\"http://id.nlm.nih.gov/mesh/Q000821\",\"label\":\"virology\"}],\"seealso\":[{\"resource\":\"http://id.nlm.nih.gov/mesh/D006342\",\"label\":\"Heart Rupture, Post-Infarction\"}]}\n"
     ]
    }
   ],
   "source": [
    "url_mid = \"https://id.nlm.nih.gov/mesh/lookup/details?descriptor=D009203\"\n",
    "js_mid = requests.get(url_mid)\n",
    "print(js_mid.content.decode(\"utf-8\"))"
   ]
  },
  {
   "cell_type": "markdown",
   "metadata": {},
   "source": [
    "## Tarefa\n",
    "### Quais os termos usados para Aspirina (consulta JSON/MeSH em Python)?"
   ]
  },
  {
   "cell_type": "code",
   "execution_count": 20,
   "metadata": {},
   "outputs": [
    {
     "name": "stdout",
     "output_type": "stream",
     "text": [
      "[{\"resource\":\"http://id.nlm.nih.gov/mesh/D001241\",\"label\":\"Aspirin\"}]\n"
     ]
    }
   ],
   "source": [
    "url_asp = \"https://id.nlm.nih.gov/mesh/lookup/descriptor?label=Aspirin&match=exact&limit=10\"\n",
    "js_asp = requests.get(url_asp)\n",
    "content_asp = js_asp.content.decode(\"utf-8\")\n",
    "print(content_asp)"
   ]
  },
  {
   "cell_type": "code",
   "execution_count": 42,
   "metadata": {},
   "outputs": [
    {
     "name": "stdout",
     "output_type": "stream",
     "text": [
      "Aspirin\n",
      "2-(Acetyloxy)benzoic Acid\n",
      "Acetylsalicylic Acid\n",
      "Acetysal\n",
      "Acylpyrin\n",
      "Aloxiprimum\n",
      "Colfarit\n",
      "Dispril\n",
      "Easprin\n",
      "Ecotrin\n",
      "Endosprin\n",
      "Magnecyl\n",
      "Micristin\n",
      "Polopirin\n",
      "Polopiryna\n",
      "Solprin\n",
      "Solupsan\n",
      "Zorprin\n"
     ]
    }
   ],
   "source": [
    "#Encontrando o codigo\n",
    "index = content_asp.find(\"/mesh/\")\n",
    "\n",
    "#Inicio do codigo\n",
    "codeIndex = index + 6\n",
    "\n",
    "#Codigo completo\n",
    "code = content_asp[codeIndex:codeIndex + 7]\n",
    "\n",
    "#Url asp\n",
    "url_asp = \"https://id.nlm.nih.gov/mesh/lookup/details?descriptor=\" + code\n",
    "\n",
    "#Obtendo termos\n",
    "terms = requests.get(url_asp).json()[\"terms\"]\n",
    "\n",
    "#Mostrando termos\n",
    "for term in terms:\n",
    "    print(term[\"label\"])\n",
    "\n",
    "\n"
   ]
  },
  {
   "cell_type": "code",
   "execution_count": null,
   "metadata": {},
   "outputs": [],
   "source": []
  }
 ],
 "metadata": {
  "kernelspec": {
   "display_name": "Python 3",
   "language": "python",
   "name": "python3"
  },
  "language_info": {
   "codemirror_mode": {
    "name": "ipython",
    "version": 3
   },
   "file_extension": ".py",
   "mimetype": "text/x-python",
   "name": "python",
   "nbconvert_exporter": "python",
   "pygments_lexer": "ipython3",
   "version": "3.8.3"
  }
 },
 "nbformat": 4,
 "nbformat_minor": 4
}
