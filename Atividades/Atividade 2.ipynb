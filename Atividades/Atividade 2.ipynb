{
 "cells": [
  {
   "cell_type": "code",
   "execution_count": 1,
   "metadata": {},
   "outputs": [
    {
     "ename": "java.lang.RuntimeException",
     "evalue": " No datasource",
     "output_type": "error",
     "traceback": [
      "\u001b[1;31mjava.lang.RuntimeException: No datasource\u001b[0;0m"
     ]
    }
   ],
   "source": [
    "-- # SQL Básico\n",
    "\n",
    "-- Ativando uma conexão de banco de dados em memória usando o SGBD H2:"
   ]
  },
  {
   "cell_type": "code",
   "execution_count": 2,
   "metadata": {},
   "outputs": [],
   "source": [
    "%defaultDatasource jdbc:h2:mem:db"
   ]
  },
  {
   "cell_type": "code",
   "execution_count": 64,
   "metadata": {},
   "outputs": [],
   "source": [
    "DROP TABLE IF EXISTS Cidade;\n",
    "DROP TABLE IF EXISTS IRMAOS;\n",
    "DROP TABLE IF EXISTS TIOS;\n",
    "DROP TABLE IF EXISTS Pessoa2;\n",
    "DROP TABLE IF EXISTS Pessoa;"
   ]
  },
  {
   "cell_type": "code",
   "execution_count": 65,
   "metadata": {},
   "outputs": [],
   "source": [
    " -- Montando a Tabela --"
   ]
  },
  {
   "cell_type": "code",
   "execution_count": 66,
   "metadata": {},
   "outputs": [],
   "source": [
    "CREATE TABLE Cidade (\n",
    "  nome_cidade VARCHAR(30) NOT NULL,\n",
    "  sigla_estado VARCHAR(2) NOT NULL,\n",
    "  PRIMARY KEY(nome_cidade),\n",
    ");\n",
    "\n",
    "CREATE TABLE Pessoa (\n",
    "    nome VARCHAR(30) NOT NULL PRIMARY KEY,\n",
    "    nome_da_mae VARCHAR(30) NOT NULL,\n",
    "    ano_nascimento INTEGER NOT NULL,\n",
    "    nome_cidade_natal VARCHAR(30),\n",
    "    PRIMARY KEY(nome),\n",
    "    FOREIGN KEY (nome_cidade_natal) references Cidade(nome_cidade),\n",
    ");\n",
    "\n"
   ]
  },
  {
   "cell_type": "code",
   "execution_count": 67,
   "metadata": {},
   "outputs": [],
   "source": [
    "-- Populando a tabela --"
   ]
  },
  {
   "cell_type": "code",
   "execution_count": 68,
   "metadata": {},
   "outputs": [],
   "source": [
    "INSERT INTO Cidade\n",
    "VALUES ('Campinas', 'SP');\n",
    "INSERT INTO Cidade\n",
    "VALUES ('Sao Paulo', 'SP');\n",
    "INSERT INTO Cidade\n",
    "VALUES ('Rio de Janeiro', 'RJ');\n",
    "\n",
    "INSERT INTO Pessoa\n",
    "VALUES ('Marcio','Maria',1999,'Campinas');\n",
    "INSERT INTO Pessoa\n",
    "VALUES ('Gisele','Silmara',1999,'Campinas');\n",
    "INSERT INTO Pessoa\n",
    "VALUES ('Joice','Clarice',1980,'Sao Paulo');\n",
    "INSERT INTO Pessoa\n",
    "VALUES ('Marcelo','Joana',2010,'Rio de Janeiro');\n",
    "INSERT INTO Pessoa\n",
    "-- Irmãs: Julia e Maria || Miguel e Silmara\n",
    "VALUES ('Julia','Tatiane',2009,'Sao Paulo');\n",
    "INSERT INTO Pessoa\n",
    "VALUES ('Maria','Tatiane',2009,'Sao Paulo');\n",
    "INSERT INTO Pessoa\n",
    "VALUES ('Miguel','Gisele',2009,'Sao Paulo');\n",
    "INSERT INTO Pessoa\n",
    "VALUES ('Silmara','Gisele',2009,'Sao Paulo');\n",
    "--Pedro e Ana filhos de Julia, sobrinhos de Maria\n",
    "INSERT INTO Pessoa\n",
    "VALUES ('Pedro','Julia',2009,'Sao Paulo');\n",
    "INSERT INTO Pessoa\n",
    "VALUES ('Ana','Julia',2009,'Sao Paulo');\n",
    "--Jucelino e Aline filhos de Silmara, sobrinhos de Miguel\n",
    "INSERT INTO Pessoa\n",
    "VALUES ('Jucelino','Silmara',2009,'Sao Paulo');\n",
    "INSERT INTO Pessoa\n",
    "VALUES ('Aline','Silmara',2009,'Sao Paulo');"
   ]
  },
  {
   "cell_type": "code",
   "execution_count": 69,
   "metadata": {},
   "outputs": [],
   "source": [
    "-- PARA CASA 1 --"
   ]
  },
  {
   "cell_type": "code",
   "execution_count": 70,
   "metadata": {},
   "outputs": [],
   "source": [
    "-- VIEW CRIADA POR CAUSA DO BUG --\n",
    "CREATE VIEW PESSOA2 AS \n",
    "SELECT NOME NOME2, NOME_DA_MAE, ANO_NASCIMENTO, NOME_CIDADE_NATAL\n",
    "FROM PESSOA;"
   ]
  },
  {
   "cell_type": "code",
   "execution_count": 74,
   "metadata": {},
   "outputs": [],
   "source": [
    "-- VIEW DE IRMÃOS --\n",
    "CREATE VIEW IRMAOS AS\n",
    "SELECT P1.nome, P2.nome2\n",
    "FROM Pessoa AS P1\n",
    "JOIN Pessoa2 AS P2\n",
    "ON P1.nome_da_mae = P2.nome_da_mae\n",
    "AND P1.NOME <> P2.NOME2;"
   ]
  },
  {
   "cell_type": "code",
   "execution_count": 112,
   "metadata": {},
   "outputs": [
    {
     "data": {
      "application/vnd.jupyter.widget-view+json": {
       "model_id": "f5902367-0f46-407f-ae8e-cd505bc0fbf9",
       "version_major": 2,
       "version_minor": 0
      },
      "method": "display_data"
     },
     "metadata": {},
     "output_type": "display_data"
    }
   ],
   "source": [
    "CREATE VIEW TIOS AS\n",
    "SELECT P1.nome SOBRINHO, P2.nome2 TIO\n",
    "FROM Pessoa AS P1\n",
    "JOIN IRMAOS AS P2\n",
    "ON P1.nome_da_mae = P2.NOME;\n",
    "\n",
    "SELECT * FROM TIOS"
   ]
  },
  {
   "cell_type": "code",
   "execution_count": null,
   "metadata": {},
   "outputs": [],
   "source": [
    "-- PARA CASA 2 --"
   ]
  },
  {
   "cell_type": "code",
   "execution_count": null,
   "metadata": {},
   "outputs": [],
   "source": [
    "CREATE TABLE Pessoa (\n",
    "    nome VARCHAR(30) NOT NULL PRIMARY KEY,\n",
    "    nome_da_mae VARCHAR(30) NOT NULL,\n",
    "    ano_nascimento INTEGER NOT NULL,\n",
    "    nome_cidade_natal VARCHAR(30),\n",
    "    PRIMARY KEY(nome),\n",
    "    FOREIGN KEY (nome_cidade_natal)\n",
    "        references Cidade(nome_cidade)\n",
    "            ON DELETE CASCADE\n",
    "            ON UPDATE CASCADE\n",
    ");"
   ]
  },
  {
   "cell_type": "code",
   "execution_count": null,
   "metadata": {},
   "outputs": [],
   "source": [
    "-- PARA CASA EXERCÍCIO 1 --"
   ]
  },
  {
   "cell_type": "code",
   "execution_count": null,
   "metadata": {},
   "outputs": [],
   "source": [
    "A)Muitos vírus tratam um medicamento\n",
    "B)Cada medicamento tem um composto ativo, podendo ele ser repetitivo na tabela ou não. Eu posso dizer que cada Virus\n",
    "tratam muitos medicamentos, mas não parece fazer muito sentido dizer que muitos virus tratam um atributo do medicamento.\n",
    "Se for o caso do composto ativo ser como se fosse o medicamento então muitos vírus podem tratar um composto ativo"
   ]
  },
  {
   "cell_type": "code",
   "execution_count": null,
   "metadata": {},
   "outputs": [],
   "source": [
    "-- PARA CASA EXERCÍCIO 2 --"
   ]
  },
  {
   "cell_type": "code",
   "execution_count": null,
   "metadata": {},
   "outputs": [],
   "source": [
    "A)Muitos vírus tratam muitos medicamentos\n",
    "B)Semelhantemente a questão 1, cada medicamento tem um composto ativo, podendo ele ser repetitivo na tabela ou não. \n",
    "Eu posso dizer que muitos Virus tratam muitos medicamentos, sendo uma relação de muitos pra muitos, mas não parece\n",
    "fazer muito sentido dizer que muitos virus tratam um atributo do medicamento.\n",
    "Se for o caso do composto ativo ser como se fosse o medicamento então muitos vírus podem tratar muitos compostos ativos."
   ]
  },
  {
   "cell_type": "code",
   "execution_count": null,
   "metadata": {},
   "outputs": [],
   "source": [
    "-- PARA CASA EXERCÍCIO 3 --"
   ]
  },
  {
   "cell_type": "code",
   "execution_count": 133,
   "metadata": {},
   "outputs": [
    {
     "data": {
      "application/vnd.jupyter.widget-view+json": {
       "model_id": "399b216d-45bf-42d0-ab53-6cc360b3b0ad",
       "version_major": 2,
       "version_minor": 0
      },
      "method": "display_data"
     },
     "metadata": {},
     "output_type": "display_data"
    }
   ],
   "source": [
    "SELECT Pessoa.nome, COUNT(TIOS.TIO)/2 AS QUANTIDADE_PARENTES, CIDADE.SIGLA_ESTADO\n",
    "FROM Pessoa, TIOS\n",
    "JOIN CIDADE\n",
    "ON PESSOA.NOME_CIDADE_NATAL = CIDADE.NOME_CIDADE\n",
    "WHERE PESSOA.NOME <> TIOS.TIO AND CIDADE.SIGLA_ESTADO = CIDADE.SIGLA_ESTADO\n",
    "GROUP BY PESSOA.NOME"
   ]
  },
  {
   "cell_type": "code",
   "execution_count": null,
   "metadata": {},
   "outputs": [],
   "source": [
    "-- PARA CASA EXERCÍCIO 4 --"
   ]
  },
  {
   "cell_type": "code",
   "execution_count": null,
   "metadata": {},
   "outputs": [],
   "source": [
    "SELECT TRATA.NOMECIENTIFICOVIRUS\n",
    "FROM TRATA\n",
    "JOIN TIPOPACIENTE\n",
    "ON TRATA.IDTIPOPACIENTE = TIPOPACIENTE.ID\n",
    "WHERE TRATA.DOSE = (SELECT MAX(DOSE) FROM TRATA) AND TIPOPACIENTE.DESCRICAO = 'IDOSO'"
   ]
  },
  {
   "cell_type": "code",
   "execution_count": null,
   "metadata": {},
   "outputs": [],
   "source": [
    "-- PARA CASA EXERCÍCIO 5 --"
   ]
  },
  {
   "cell_type": "code",
   "execution_count": null,
   "metadata": {},
   "outputs": [],
   "source": [
    "-- A --\n",
    "SELECT MEDICAMENTO.COMPOSTOATIVO\n",
    "FROM MEDICAMENTO\n",
    "JOIN VIRUS\n",
    "ON VIRUS.NOMEVENDAMEDICAMENTO = MEDICAMENTO.NOMEVENDA\n",
    "HAVING VIRUS.INCUBACAO > 5"
   ]
  },
  {
   "cell_type": "code",
   "execution_count": null,
   "metadata": {},
   "outputs": [],
   "source": [
    "-- B --\n",
    "SELECT MEDICAMENTO.COMPOSTOATIVO\n",
    "FROM MEDICAMENTO\n",
    "JOIN VIRUS\n",
    "ON VIRUS.NOMEVENDAMEDICAMENTO = MEDICAMENTO.NOMEVENDA\n",
    "WHERE (SELECT COUNT(NOMEVENDAMEDICAMENTO)\n",
    "          FROM VIRUS\n",
    "          GROUP BY NOMECIENTIFICO) > 5"
   ]
  }
 ],
 "metadata": {
  "kernelspec": {
   "display_name": "SQL",
   "language": "SQL",
   "name": "sql"
  },
  "language_info": {
   "codemirror_mode": "sql",
   "file_extension": ".sql",
   "mimetype": "",
   "name": "SQL",
   "nbconverter_exporter": "",
   "version": ""
  },
  "toc": {
   "base_numbering": 1,
   "nav_menu": {},
   "number_sections": false,
   "sideBar": false,
   "skip_h1_title": false,
   "title_cell": "Table of Contents",
   "title_sidebar": "Contents",
   "toc_cell": false,
   "toc_position": {},
   "toc_section_display": false,
   "toc_window_display": false
  }
 },
 "nbformat": 4,
 "nbformat_minor": 4
}
