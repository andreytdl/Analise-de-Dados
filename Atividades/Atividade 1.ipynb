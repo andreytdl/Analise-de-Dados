{
 "cells": [
  {
   "cell_type": "code",
   "execution_count": 9,
   "metadata": {},
   "outputs": [],
   "source": [
    "-- # SQL Básico\n",
    "\n",
    "-- Ativando uma conexão de banco de dados em memória usando o SGBD H2:"
   ]
  },
  {
   "cell_type": "code",
   "execution_count": 3,
   "metadata": {},
   "outputs": [],
   "source": [
    "%defaultDatasource jdbc:h2:mem:db"
   ]
  },
  {
   "cell_type": "code",
   "execution_count": 15,
   "metadata": {},
   "outputs": [],
   "source": [
    "DROP TABLE IF EXISTS Cidade;\n",
    "DROP TABLE IF EXISTS Pessoa;"
   ]
  },
  {
   "cell_type": "code",
   "execution_count": 16,
   "metadata": {},
   "outputs": [],
   "source": [
    " -- EXERCÍCIO 1 --"
   ]
  },
  {
   "cell_type": "code",
   "execution_count": 17,
   "metadata": {},
   "outputs": [],
   "source": [
    "CREATE TABLE Cidade (\n",
    "  nome_cidade VARCHAR(30) NOT NULL,\n",
    "  sigla_estado VARCHAR(2) NOT NULL,\n",
    "  PRIMARY KEY(nome_cidade),\n",
    ");\n",
    "\n",
    "CREATE TABLE Pessoa (\n",
    "    nome VARCHAR(30) NOT NULL PRIMARY KEY,\n",
    "    nome_da_mae VARCHAR(30) NOT NULL,\n",
    "    ano_nascimento INTEGER NOT NULL,\n",
    "    nome_cidade_natal VARCHAR(30),\n",
    "    PRIMARY KEY(nome),\n",
    "    FOREIGN KEY (nome_cidade_natal) references Cidade(nome_cidade),\n",
    ");\n",
    "\n"
   ]
  },
  {
   "cell_type": "code",
   "execution_count": 18,
   "metadata": {},
   "outputs": [],
   "source": [
    "-- EXERCÍCIO 2 --"
   ]
  },
  {
   "cell_type": "code",
   "execution_count": 19,
   "metadata": {},
   "outputs": [],
   "source": [
    "INSERT INTO Cidade\n",
    "VALUES ('Campinas', 'SP');\n",
    "INSERT INTO Cidade\n",
    "VALUES ('Sao Paulo', 'SP');\n",
    "INSERT INTO Cidade\n",
    "VALUES ('Rio de Janeiro', 'RJ');\n",
    "\n",
    "INSERT INTO Pessoa\n",
    "VALUES ('Marcio','Maria',1999,'Campinas');\n",
    "INSERT INTO Pessoa\n",
    "VALUES ('Gisele','Silmara',1999,'Campinas');\n",
    "INSERT INTO Pessoa\n",
    "VALUES ('Joice','Clarice',1980,'Sao Paulo');\n",
    "INSERT INTO Pessoa\n",
    "VALUES ('Marcelo','Joana',2010,'Rio de Janeiro');\n",
    "INSERT INTO Pessoa\n",
    "VALUES ('Julia','Tatiane',2009,'Sao Paulo');"
   ]
  },
  {
   "cell_type": "code",
   "execution_count": 20,
   "metadata": {},
   "outputs": [],
   "source": [
    "-- EXERCÍCIO 3 --"
   ]
  },
  {
   "cell_type": "code",
   "execution_count": 21,
   "metadata": {},
   "outputs": [
    {
     "data": {
      "application/vnd.jupyter.widget-view+json": {
       "model_id": "cde50990-1bb5-4ec9-a2ec-da2e418eff54",
       "version_major": 2,
       "version_minor": 0
      },
      "method": "display_data"
     },
     "metadata": {},
     "output_type": "display_data"
    },
    {
     "data": {
      "application/vnd.jupyter.widget-view+json": {
       "model_id": "ee091b9c-81ba-4c78-afa8-fa9be1a590de",
       "version_major": 2,
       "version_minor": 0
      },
      "method": "display_data"
     },
     "metadata": {},
     "output_type": "display_data"
    }
   ],
   "source": [
    "SELECT nome_da_mae FROM Pessoa;\n",
    "SELECT nome_da_mae FROM Pessoa WHERE ano_nascimento < 2008;"
   ]
  },
  {
   "cell_type": "code",
   "execution_count": 22,
   "metadata": {},
   "outputs": [],
   "source": [
    "--EXERCÍCIO 4--"
   ]
  },
  {
   "cell_type": "code",
   "execution_count": null,
   "metadata": {},
   "outputs": [],
   "source": [
    "--Utilizando o caso anterior"
   ]
  },
  {
   "cell_type": "code",
   "execution_count": 28,
   "metadata": {},
   "outputs": [
    {
     "data": {
      "application/vnd.jupyter.widget-view+json": {
       "model_id": "4dde0ddb-8685-43b6-8bb4-387e4ac9502d",
       "version_major": 2,
       "version_minor": 0
      },
      "method": "display_data"
     },
     "metadata": {},
     "output_type": "display_data"
    }
   ],
   "source": [
    "SELECT Pessoa.nome, Pessoa.ano_nascimento, Cidade.nome_cidade, Cidade.sigla_estado\n",
    "FROM Pessoa, Cidade\n",
    "WHERE Pessoa.nome_cidade_natal = Cidade.nome_cidade"
   ]
  },
  {
   "cell_type": "code",
   "execution_count": 25,
   "metadata": {},
   "outputs": [],
   "source": [
    "--Utilizando o caso dos remedios"
   ]
  },
  {
   "cell_type": "code",
   "execution_count": null,
   "metadata": {},
   "outputs": [],
   "source": [
    "SELECT Virus.nome_popular, Medicamento.nome_venda\n",
    "FROM Virus, Medicamento\n",
    "WHERE Virus.medicamento = Medicamento.nome_venda AND Medicamento.nome_venda = 'W'"
   ]
  },
  {
   "cell_type": "code",
   "execution_count": null,
   "metadata": {},
   "outputs": [],
   "source": [
    "SELECT Virus.nome_popular, Medicamento.nome_venda\n",
    "FROM Virus, Medicamento\n",
    "WHERE Virus.medicamento = Medicamento.nome_venda AND Medicamento.composto_ativo = 'X'"
   ]
  },
  {
   "cell_type": "code",
   "execution_count": 26,
   "metadata": {},
   "outputs": [],
   "source": [
    "-- EXERCICIO 5 --"
   ]
  },
  {
   "cell_type": "code",
   "execution_count": null,
   "metadata": {},
   "outputs": [],
   "source": [
    "SELECT DISTINCT composto_ativo\n",
    "FROM Medicamento"
   ]
  },
  {
   "cell_type": "code",
   "execution_count": 29,
   "metadata": {},
   "outputs": [],
   "source": [
    "-- EXERCICIO 6 --"
   ]
  },
  {
   "cell_type": "code",
   "execution_count": null,
   "metadata": {},
   "outputs": [],
   "source": [
    "SELECT nome_popular_virus\n",
    "FROM Trata\n",
    "WHERE composto_ativo_medicamento = 'X'"
   ]
  }
 ],
 "metadata": {
  "kernelspec": {
   "display_name": "SQL",
   "language": "SQL",
   "name": "sql"
  },
  "language_info": {
   "codemirror_mode": "sql",
   "file_extension": ".sql",
   "mimetype": "",
   "name": "SQL",
   "nbconverter_exporter": "",
   "version": ""
  },
  "toc": {
   "base_numbering": 1,
   "nav_menu": {},
   "number_sections": false,
   "sideBar": false,
   "skip_h1_title": false,
   "title_cell": "Table of Contents",
   "title_sidebar": "Contents",
   "toc_cell": false,
   "toc_position": {},
   "toc_section_display": false,
   "toc_window_display": false
  }
 },
 "nbformat": 4,
 "nbformat_minor": 4
}
