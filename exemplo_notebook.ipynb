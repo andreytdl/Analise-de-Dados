{
 "cells": [
  {
   "cell_type": "code",
   "execution_count": 57,
   "metadata": {
    "tags": []
   },
   "outputs": [
    {
     "name": "stdout",
     "output_type": "stream",
     "text": [
      "{'ind': '200101', 'local': 'ABW', 'valores': {'2014': '104', '2015': '104', '2016': '105', '2017': '105', '2018': '106', '2019': '106', '2020': '107'}}\n"
     ]
    }
   ],
   "source": [
    "import xml.etree.ElementTree as et\n",
    "import sqlite3\n",
    "\n",
    "data_path = \"./datasets/unesco_socio_economics.xml\"\n",
    "root = et.parse(data_path).getroot()\n",
    "\n",
    "ns = {\n",
    "    \"generic\": \"http://www.SDMX.org/resources/SDMXML/schemas/v2_0/generic\",\n",
    "    \"common\": \"http://www.SDMX.org/resources/SDMXML/schemas/v2_0/common\",\n",
    "    \"xsi\": \"http://www.w3.org/2001/XMLSchema-instance\",\n",
    "    \"message\": \"http://www.SDMX.org/resources/SDMXML/schemas/v2_0/message\"\n",
    "}\n",
    "\n",
    "dataset = root.find(\"generic:DataSet\", ns)\n",
    "\n",
    "dados = []\n",
    "\n",
    "for series in dataset.findall(\"generic:Series\", ns):\n",
    "\n",
    "    # indicador e local\n",
    "    key = series.find(\"generic:SeriesKey\", ns).findall(\"generic:Value\", ns)\n",
    "    indicador = key[0].attrib[\"value\"]\n",
    "    loc = key[1].attrib[\"value\"]\n",
    "    \n",
    "    valores = {} # <ano>: <valor> tudo como string\n",
    "    # ano e valor\n",
    "    for obs in series.findall(\"generic:Obs\", ns):\n",
    "        ano = obs[0].text\n",
    "        valor = obs[1].attrib[\"value\"]\n",
    "        valores[ano] = valor\n",
    "\n",
    "    dadosEntry = {}\n",
    "    dadosEntry[\"ind\"] = indicador\n",
    "    dadosEntry[\"local\"] = loc\n",
    "    dadosEntry[\"valores\"] = valores\n",
    "\n",
    "    dados.append(dadosEntry)\n",
    "\n",
    "print(dados[0])\n",
    "    "
   ]
  },
  {
   "cell_type": "code",
   "execution_count": null,
   "metadata": {},
   "outputs": [],
   "source": []
  }
 ],
 "metadata": {
  "kernelspec": {
   "display_name": "Python 3",
   "language": "python",
   "name": "python3"
  },
  "language_info": {
   "codemirror_mode": {
    "name": "ipython",
    "version": 3
   },
   "file_extension": ".py",
   "mimetype": "text/x-python",
   "name": "python",
   "nbconvert_exporter": "python",
   "pygments_lexer": "ipython3",
   "version": "3.8.3"
  },
  "toc": {
   "base_numbering": 1,
   "nav_menu": {},
   "number_sections": false,
   "sideBar": false,
   "skip_h1_title": false,
   "title_cell": "Table of Contents",
   "title_sidebar": "Contents",
   "toc_cell": false,
   "toc_position": {},
   "toc_section_display": false,
   "toc_window_display": false
  }
 },
 "nbformat": 4,
 "nbformat_minor": 2
}
