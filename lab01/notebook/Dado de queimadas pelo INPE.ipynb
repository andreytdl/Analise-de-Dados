{
 "cells": [
  {
   "cell_type": "code",
   "execution_count": 23,
   "metadata": {},
   "outputs": [
    {
     "name": "stdout",
     "output_type": "stream",
     "text": [
      "           data_hora_gmt     estado     bioma\n",
      "0    2020-09-24T16:35:00   MARANHÃO   Cerrado\n",
      "1    2020-09-24T16:35:00   MARANHÃO  Amazônia\n",
      "2    2020-09-24T16:35:00   MARANHÃO   Cerrado\n",
      "3    2020-09-24T16:35:00       PARÁ  Amazônia\n",
      "4    2020-09-24T16:35:00   MARANHÃO   Cerrado\n",
      "..                   ...        ...       ...\n",
      "798  2020-09-24T16:30:00   MARANHÃO   Cerrado\n",
      "799  2020-09-24T16:30:00   MARANHÃO   Cerrado\n",
      "800  2020-09-24T16:30:00   MARANHÃO   Cerrado\n",
      "801  2020-09-24T16:30:00  TOCANTINS   Cerrado\n",
      "802  2020-09-24T16:30:00  TOCANTINS   Cerrado\n",
      "\n",
      "[803 rows x 3 columns]\n"
     ]
    }
   ],
   "source": [
    "import pandas as pd\n",
    "\n",
    "#Selecionando colunas importantes para nós\n",
    "col_list = [\"estado\", \"bioma\", \"data_hora_gmt\"]\n",
    "\n",
    "#Importando o arquivo csv\n",
    "data = pd.read_csv(\"focos24h_Brasil.csv\",usecols=col_list) \n",
    "\n",
    "#Caso queira ver os primeiros 5 itens de todas as colunas do CSV\n",
    "print(data)"
   ]
  },
  {
   "cell_type": "code",
   "execution_count": 25,
   "metadata": {},
   "outputs": [
    {
     "name": "stdout",
     "output_type": "stream",
     "text": [
      "Estados - Quantidade de mortos - Ultima atualização\n",
      "São Paulo - 34677 - 2020-09-24T22:34:49.229Z\n",
      "Bahia - 6455 - 2020-09-24T22:34:49.229Z\n",
      "Minas Gerais - 6983 - 2020-09-24T22:34:49.229Z\n",
      "Rio de Janeiro - 18037 - 2020-09-24T22:34:49.229Z\n",
      "Ceará - 8882 - 2020-09-24T22:34:49.229Z\n",
      "Pará - 6502 - 2020-09-24T22:34:49.229Z\n",
      "Santa Catarina - 2704 - 2020-09-24T22:34:49.229Z\n",
      "Goiás - 4356 - 2020-09-24T22:34:49.229Z\n",
      "Distrito Federal - 3164 - 2020-09-24T22:34:49.229Z\n",
      "Rio Grande do Sul - 4544 - 2020-09-24T22:34:49.229Z\n",
      "Paraná - 4280 - 2020-09-24T22:34:49.229Z\n",
      "Maranhão - 3693 - 2020-09-24T22:34:49.229Z\n",
      "Pernambuco - 8110 - 2020-09-24T22:34:49.229Z\n",
      "Amazonas - 3992 - 2020-09-24T22:34:49.229Z\n",
      "Espírito Santo - 3458 - 2020-09-24T22:34:49.229Z\n",
      "Paraíba - 2762 - 2020-09-24T22:34:49.229Z\n",
      "Mato Grosso - 3299 - 2020-09-24T22:34:49.229Z\n",
      "Piauí - 2073 - 2020-09-24T22:34:49.229Z\n",
      "Alagoas - 2040 - 2020-09-24T22:34:49.229Z\n",
      "Sergipe - 2004 - 2020-09-24T22:34:49.229Z\n",
      "Rio Grande do Norte - 2366 - 2020-09-24T22:34:49.229Z\n",
      "Mato Grosso do Sul - 1217 - 2020-09-24T22:34:49.229Z\n",
      "Tocantins - 901 - 2020-09-24T22:34:49.229Z\n",
      "Rondônia - 1323 - 2020-09-24T22:34:49.229Z\n",
      "Roraima - 635 - 2020-09-24T22:34:49.229Z\n",
      "Amapá - 698 - 2020-09-24T22:34:49.229Z\n",
      "Acre - 653 - 2020-09-24T22:34:49.229Z\n"
     ]
    }
   ],
   "source": [
    "import requests as req\n",
    "\n",
    "#Obtendo os dados sobre o coronavirus no Brasil\n",
    "data = req.get(\"https://covid19-brazil-api.now.sh/api/report/v1\").json()\n",
    "\n",
    "#Convertendo pelo pandas em DataFrame\n",
    "df = pd.DataFrame.from_dict(data).data\n",
    "\n",
    "#Obtendo os estados e a quantidade de mortos por coronavirus :\n",
    "print(\"Estados - Quantidade de mortos - Ultima atualização\")\n",
    "for val in df:\n",
    "    print(val[\"state\"], \"-\", val[\"deaths\"], \"-\", val[\"datetime\"])\n"
   ]
  },
  {
   "cell_type": "code",
   "execution_count": null,
   "metadata": {},
   "outputs": [],
   "source": []
  },
  {
   "cell_type": "code",
   "execution_count": null,
   "metadata": {},
   "outputs": [],
   "source": []
  },
  {
   "cell_type": "code",
   "execution_count": null,
   "metadata": {},
   "outputs": [],
   "source": []
  }
 ],
 "metadata": {
  "kernelspec": {
   "display_name": "Python 3",
   "language": "python",
   "name": "python3"
  },
  "language_info": {
   "codemirror_mode": {
    "name": "ipython",
    "version": 3
   },
   "file_extension": ".py",
   "mimetype": "text/x-python",
   "name": "python",
   "nbconvert_exporter": "python",
   "pygments_lexer": "ipython3",
   "version": "3.8.3"
  }
 },
 "nbformat": 4,
 "nbformat_minor": 4
}
