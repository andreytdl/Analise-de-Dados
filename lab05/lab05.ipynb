{
 "cells": [
  {
   "cell_type": "code",
   "execution_count": 3,
   "metadata": {},
   "outputs": [],
   "source": [
    "%defaultDatasource jdbc:h2:mem:db"
   ]
  },
  {
   "cell_type": "code",
   "execution_count": 5,
   "metadata": {},
   "outputs": [],
   "source": [
    "DROP TABLE IF EXISTS Drug;\n",
    "DROP TABLE IF EXISTS Pathology;\n",
    "DROP TABLE IF EXISTS DrugUse;\n",
    "\n",
    "CREATE TABLE Drug (\n",
    "  code INT NOT NULL,\n",
    "  name VARCHAR(200) NOT NULL,\n",
    "  PRIMARY KEY(code)\n",
    ") AS SELECT\n",
    "    code,\n",
    "    name\n",
    "FROM CSVREAD('drug.csv');\n",
    "\n",
    "CREATE TABLE Pathology (\n",
    "  code INT NOT NULL,\n",
    "  name VARCHAR(200) NOT NULL,\n",
    "  PRIMARY KEY(code)\n",
    ") AS SELECT\n",
    "    code,\n",
    "    name\n",
    "FROM CSVREAD('pathology.csv');\n",
    "\n",
    "CREATE TABLE DrugUse (\n",
    "  idPerson INT NOT NULL,\n",
    "  codePathology INT NOT NULL,\n",
    "  codeDrug INT NOT NULL,\n",
    "  FOREIGN KEY(codePathology)\n",
    "    REFERENCES Pathology(code)\n",
    "      ON DELETE NO ACTION\n",
    "      ON UPDATE NO ACTION,\n",
    "  FOREIGN KEY(codeDrug)\n",
    "    REFERENCES Drug(code)\n",
    "      ON DELETE NO ACTION\n",
    "      ON UPDATE NO ACTION,\n",
    ") AS SELECT\n",
    "    idPerson,\n",
    "    codePathology,\n",
    "    codeDrug\n",
    "FROM CSVREAD('drug-use.csv');\n",
    "\n",
    "CREATE TABLE SideEffect(\n",
    "  idPerson INT NOT NULL,\n",
    "  codePathology INT NOT NULL,\n",
    "  FOREIGN KEY(codePathology)\n",
    "    REFERENCES Pathology(code)\n",
    "      ON DELETE NO ACTION\n",
    "      ON UPDATE NO ACTION\n",
    ") AS SELECT idPerson, codePathology\n",
    "FROM CSVREAD('sideeffect.csv');"
   ]
  },
  {
   "cell_type": "code",
   "execution_count": 131,
   "metadata": {},
   "outputs": [
    {
     "data": {
      "application/vnd.jupyter.widget-view+json": {
       "model_id": "ebcaa052-18e6-465c-ab73-50bcbd27650c",
       "version_major": 2,
       "version_minor": 0
      },
      "method": "display_data"
     },
     "metadata": {},
     "output_type": "display_data"
    },
    {
     "data": {
      "application/vnd.jupyter.widget-view+json": {
       "model_id": "25088ace-2768-4fb0-acfb-3501fe86d61e",
       "version_major": 2,
       "version_minor": 0
      },
      "method": "display_data"
     },
     "metadata": {},
     "output_type": "display_data"
    },
    {
     "data": {
      "application/vnd.jupyter.widget-view+json": {
       "model_id": "af6e426d-8df7-418c-b68e-0dc342499111",
       "version_major": 2,
       "version_minor": 0
      },
      "method": "display_data"
     },
     "metadata": {},
     "output_type": "display_data"
    },
    {
     "data": {
      "application/vnd.jupyter.widget-view+json": {
       "model_id": "8bb78468-2aae-4f59-923f-56ba4a223a46",
       "version_major": 2,
       "version_minor": 0
      },
      "method": "display_data"
     },
     "metadata": {},
     "output_type": "display_data"
    }
   ],
   "source": [
    "SELECT * FROM Drug;\n",
    "SELECT * FROM Pathology;\n",
    "SELECT * FROM DrugUse;\n",
    "SELECT * FROM SideEffect\n",
    "ORDER BY CODEPATHOLOGY;"
   ]
  },
  {
   "cell_type": "markdown",
   "metadata": {},
   "source": [
    "# FDA Adverse Event Reporting System (FAERS)\n",
    "\n",
    "Considere a base de dados que reúne relatos de efeitos adversos de drogas: [FDA Adverse Event Reporting System (FAERS)](https://open.fda.gov/data/faers/).\n",
    "\n",
    "As fontes de dados são publicadas e documentadas em: [Latest Quarterly Data Files](https://www.fda.gov/drugs/fda-adverse-event-reporting-system-faers/fda-adverse-event-reporting-system-faers-latest-quarterly-data-files)"
   ]
  },
  {
   "cell_type": "markdown",
   "metadata": {},
   "source": [
    "# Interação entre medicamentos\n",
    "Considere como uma interação toda vez que um medicamento A é tomado em conjunto com um medicamento B por uma pessoa. Crie uma consulta que retorne para cada par de medicamento A,B o número de interações, somente para aqueles medicamentos que são tomados em conjunto mais de 30 vezes (passaremos a chamar de **grupo mais 30**)."
   ]
  },
  {
   "cell_type": "code",
   "execution_count": 28,
   "metadata": {},
   "outputs": [
    {
     "data": {
      "application/vnd.jupyter.widget-view+json": {
       "model_id": "55d8997d-1f7c-4fa9-94e8-525e3ce9eb7e",
       "version_major": 2,
       "version_minor": 0
      },
      "method": "display_data"
     },
     "metadata": {},
     "output_type": "display_data"
    }
   ],
   "source": [
    "DROP VIEW IF EXISTS DrugInteraction30;\n",
    "DROP VIEW IF EXISTS DrugInteraction;\n",
    "\n",
    "CREATE VIEW DrugInteraction AS\n",
    "SELECT DUA.codeDrug druga, DUB.codeDrug drugb\n",
    "FROM DrugUse DUA, DrugUse DUB\n",
    "WHERE DUA.IdPerson = DUB.IdPerson AND DUA.codeDrug < DUB.codeDrug;\n",
    "\n",
    "CREATE VIEW DrugInteraction30 AS\n",
    "SELECT druga, drugb, count(*) weight\n",
    "FROM DrugInteraction\n",
    "GROUP BY druga, drugb\n",
    "HAVING weight > 30;\n",
    "\n",
    "SELECT * FROM DrugInteraction30;"
   ]
  },
  {
   "cell_type": "markdown",
   "metadata": {},
   "source": [
    "## Tabela Resultante\n",
    "\n",
    "Se estiver demorando muito para gerar a tabela, você poderá usar a seguinte tabela resultante pronta. Essa tabela tem todas as interações, você ainda precisará filtrar o **grupo mais 30**."
   ]
  },
  {
   "cell_type": "code",
   "execution_count": 52,
   "metadata": {},
   "outputs": [
    {
     "data": {
      "application/vnd.jupyter.widget-view+json": {
       "model_id": "0d200f68-dfd8-45d2-8306-a94b1ee489e8",
       "version_major": 2,
       "version_minor": 0
      },
      "method": "display_data"
     },
     "metadata": {},
     "output_type": "display_data"
    },
    {
     "data": {
      "application/vnd.jupyter.widget-view+json": {
       "model_id": "1335db0b-ee25-42e0-a1a5-27d4c3c8e925",
       "version_major": 2,
       "version_minor": 0
      },
      "method": "display_data"
     },
     "metadata": {},
     "output_type": "display_data"
    }
   ],
   "source": [
    "DROP VIEW IF EXISTS DrugInteraction30;\n",
    "DROP TABLE IF EXISTS DrugInteraction30;\n",
    "DROP TABLE IF EXISTS DrugInteraction;\n",
    "\n",
    "CREATE TABLE DrugInteraction (\n",
    "  druga INT NOT NULL,\n",
    "  drugb INT NOT NULL,\n",
    "  weight INT NOT NULL,\n",
    "  PRIMARY KEY(druga, drugb)\n",
    ") AS SELECT\n",
    "    druga,\n",
    "    drugb,\n",
    "    weight\n",
    "FROM CSVREAD('drug-interaction.csv');\n",
    "\n",
    "CREATE VIEW DrugInteraction30 AS\n",
    "SELECT druga, drugb, weight\n",
    "FROM DrugInteraction\n",
    "GROUP BY druga, drugb\n",
    "HAVING weight > 30;\n",
    "\n",
    "SELECT * FROM DrugInteraction30;\n",
    "--SELECT * FROM DrugInteraction;"
   ]
  },
  {
   "cell_type": "markdown",
   "metadata": {},
   "source": [
    "# Suporte\n",
    "\n",
    "### Qual o suporte que cada uma das associações tem?\n",
    "\n",
    "Gere uma consulta que apresente o suporte do **grupo mais 30**. Ordene o resultado por ordem de suporte. \n",
    "\n",
    "Observação: Para que o resultado da divisão seja fracionária, converta o numerador em `DOUBLE` usando:\n",
    "~~~sql\n",
    "CAST(campo AS DOUBLE)\n",
    "~~~"
   ]
  },
  {
   "cell_type": "code",
   "execution_count": 128,
   "metadata": {},
   "outputs": [
    {
     "data": {
      "application/vnd.jupyter.widget-view+json": {
       "model_id": "40d7caa5-1b8d-46e1-b4f8-fa60d1f15470",
       "version_major": 2,
       "version_minor": 0
      },
      "method": "display_data"
     },
     "metadata": {},
     "output_type": "display_data"
    },
    {
     "data": {
      "application/vnd.jupyter.widget-view+json": {
       "model_id": "f4ddd621-1be4-447e-9126-b60b7f2028ee",
       "version_major": 2,
       "version_minor": 0
      },
      "method": "display_data"
     },
     "metadata": {},
     "output_type": "display_data"
    },
    {
     "data": {
      "application/vnd.jupyter.widget-view+json": {
       "model_id": "37e08a9e-cb22-4a2e-861b-b154045b676d",
       "version_major": 2,
       "version_minor": 0
      },
      "method": "display_data"
     },
     "metadata": {},
     "output_type": "display_data"
    }
   ],
   "source": [
    "DROP VIEW IF EXISTS TOTALQUANTITY;\n",
    "\n",
    "CREATE VIEW TOTALQUANTITY AS \n",
    "SELECT SUM(WEIGHT) QUANTITY\n",
    "FROM DRUGINTERACTION30;\n",
    "\n",
    "SELECT * FROM TOTALQUANTITY;\n",
    "\n",
    "SELECT DRUGINTERACTION30.DRUGA, DRUGINTERACTION30.DRUGB, CAST(DRUGINTERACTION30.WEIGHT AS DOUBLE) / TOTALQUANTITY.QUANTITY AS SUPORTE\n",
    "FROM DRUGINTERACTION30, TOTALQUANTITY\n",
    "GROUP BY DRUGINTERACTION30.DRUGA, DRUGINTERACTION30.DRUGB, TOTALQUANTITY.QUANTITY\n",
    "ORDER BY DRUGINTERACTION30.DRUGA;"
   ]
  },
  {
   "cell_type": "markdown",
   "metadata": {},
   "source": [
    "# Confiança\n",
    "\n",
    "### Qual a confiança que cada uma das associações tem?\n",
    "\n",
    "Gere uma consulta que apresente a confiança do **grupo mais 30**. Ordene o resultado por ordem de confiança."
   ]
  },
  {
   "cell_type": "code",
   "execution_count": 130,
   "metadata": {},
   "outputs": [
    {
     "data": {
      "application/vnd.jupyter.widget-view+json": {
       "model_id": "299ab80d-74b9-442d-9481-42c2af236008",
       "version_major": 2,
       "version_minor": 0
      },
      "method": "display_data"
     },
     "metadata": {},
     "output_type": "display_data"
    }
   ],
   "source": [
    "DROP VIEW IF EXISTS TOTALQUANTITY;\n",
    "\n",
    "-- TABELA MATRIZ\n",
    "-- SELECT * FROM DRUGINTERACTION30;\n",
    "\n",
    "-- TABELA USADA PARA ESTUDO\n",
    "-- SELECT DRUGA, DRUGB, CAST(COUNT(DISTINCT DRUGA AND DRUGB)AS DOUBLE) CAST\n",
    "-- FROM DRUGINTERACTION30\n",
    "-- GROUP BY DRUGA, DRUGB\n",
    "-- ORDER BY DRUGA, DRUGB;\n",
    "\n",
    "CREATE VIEW TOTALQUANTITY AS \n",
    "SELECT DISTINCT DRUGA, CAST(SUM(WEIGHT) AS DOUBLE) QUANTITY\n",
    "FROM DRUGINTERACTION30\n",
    "GROUP BY DRUGA\n",
    "ORDER BY DRUGA;\n",
    "\n",
    "-- SELECT * FROM TOTALQUANTITY;\n",
    "\n",
    "SELECT DRUGINTERACTION30.DRUGA, DRUGINTERACTION30.DRUGB, CAST(DRUGINTERACTION30.WEIGHT AS DOUBLE) / TOTALQUANTITY.QUANTITY AS SUPORTE\n",
    "FROM DRUGINTERACTION30, TOTALQUANTITY\n",
    "WHERE DRUGINTERACTION30.DRUGA = TOTALQUANTITY.DRUGA\n",
    "GROUP BY DRUGINTERACTION30.DRUGA, DRUGINTERACTION30.DRUGB, TOTALQUANTITY.QUANTITY\n",
    "ORDER BY DRUGINTERACTION30.DRUGA, DRUGINTERACTION30.DRUGB;"
   ]
  },
  {
   "cell_type": "markdown",
   "metadata": {},
   "source": [
    "# Efeito Colateral\n",
    "\n",
    "Para cada medicamento, qual o percentual do medicamento A que tem efeito colateral junto com o medicamento B, quando comparado com seu uso sem o medicamento B."
   ]
  },
  {
   "cell_type": "code",
   "execution_count": null,
   "metadata": {},
   "outputs": [],
   "source": []
  }
 ],
 "metadata": {
  "kernelspec": {
   "display_name": "SQL",
   "language": "SQL",
   "name": "sql"
  },
  "language_info": {
   "codemirror_mode": "sql",
   "file_extension": ".sql",
   "mimetype": "",
   "name": "SQL",
   "nbconverter_exporter": "",
   "version": ""
  },
  "toc": {
   "base_numbering": 1,
   "nav_menu": {},
   "number_sections": false,
   "sideBar": false,
   "skip_h1_title": false,
   "title_cell": "Table of Contents",
   "title_sidebar": "Contents",
   "toc_cell": false,
   "toc_position": {},
   "toc_section_display": false,
   "toc_window_display": false
  }
 },
 "nbformat": 4,
 "nbformat_minor": 2
}
