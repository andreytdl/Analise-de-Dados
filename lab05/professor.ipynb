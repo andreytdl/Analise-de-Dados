{
 "cells": [
  {
   "cell_type": "code",
   "execution_count": 4,
   "metadata": {},
   "outputs": [],
   "source": [
    "%defaultDatasource jdbc:h2:mem:db"
   ]
  },
  {
   "cell_type": "code",
   "execution_count": 5,
   "metadata": {},
   "outputs": [
    {
     "ename": "org.h2.jdbc.JdbcSQLException",
     "evalue": " IO Exception",
     "output_type": "error",
     "traceback": [
      "\u001b[1;31morg.h2.jdbc.JdbcSQLException: IO Exception: \"IOException reading ../../data/faers-2017-dron/demo.csv\"; SQL statement:\u001b[0;0m",
      "\u001b[1;31mCREATE TABLE Person(\u001b[0;0m",
      "\u001b[1;31mid INT NOT NULL,\u001b[0;0m",
      "\u001b[1;31mage INT,\u001b[0;0m",
      "\u001b[1;31msex VARCHAR(1),\u001b[0;0m",
      "\u001b[1;31mPRIMARY KEY(Id)\u001b[0;0m",
      "\u001b[1;31m) AS SELECT id, age, sex\u001b[0;0m",
      "\u001b[1;31mFROM CSVREAD('../../data/faers-2017-dron/demo.csv') [90028-197]\u001b[0;0m"
     ]
    }
   ],
   "source": [
    "DROP TABLE IF EXISTS Drug;\n",
    "DROP TABLE IF EXISTS Pathology;\n",
    "DROP TABLE IF EXISTS Indication;\n",
    "DROP TABLE IF EXISTS Person;\n",
    "DROP TABLE IF EXISTS SideEffect;\n",
    "DROP TABLE IF EXISTS DrugHierarchy;\n",
    "\n",
    "CREATE TABLE Person(\n",
    "    id INT NOT NULL,\n",
    "    age INT,\n",
    "    sex VARCHAR(1),\n",
    "    PRIMARY KEY(Id)\n",
    ") AS SELECT id, age, sex\n",
    "FROM CSVREAD('../../data/faers-2017-dron/demo.csv');\n",
    "\n",
    "CREATE TABLE Drug(\n",
    "  code VARCHAR(200) NOT NULL,\n",
    "  name VARCHAR(200) NOT NULL,\n",
    "  PRIMARY KEY(code)\n",
    ") AS SELECT code, name\n",
    "FROM CSVREAD('../../data/faers-2017-dron/drug.csv');\n",
    "\n",
    "CREATE TABLE Pathology(\n",
    "  code INT NOT NULL,\n",
    "  name VARCHAR(200) NOT NULL,\n",
    "  PRIMARY KEY(code)\n",
    ") AS SELECT code, name\n",
    "FROM CSVREAD('../../data/faers-2017-dron/pathology.csv');\n",
    "\n",
    "CREATE TABLE Indication(\n",
    "  idPerson INT NOT NULL,\n",
    "  codePathology INT NOT NULL,\n",
    "  codeDrug VARCHAR(200) NOT NULL,\n",
    "  FOREIGN KEY(idPerson)\n",
    "    REFERENCES Person(id)\n",
    "      ON DELETE NO ACTION\n",
    "      ON UPDATE NO ACTION,\n",
    "  FOREIGN KEY(codePathology)\n",
    "    REFERENCES Pathology(code)\n",
    "      ON DELETE NO ACTION\n",
    "      ON UPDATE NO ACTION,\n",
    "  FOREIGN KEY(codeDrug)\n",
    "    REFERENCES Drug(code)\n",
    "      ON DELETE NO ACTION\n",
    "      ON UPDATE NO ACTION,\n",
    ") AS SELECT idperson, codepathology, codedrug\n",
    "FROM CSVREAD('../../data/faers-2017-dron/indication.csv');\n",
    "\n",
    "CREATE TABLE SideEffect(\n",
    "  idPerson INT NOT NULL,\n",
    "  codePathology INT NOT NULL,\n",
    "  FOREIGN KEY(idPerson)\n",
    "    REFERENCES Person(id)\n",
    "      ON DELETE NO ACTION\n",
    "      ON UPDATE NO ACTION,\n",
    "  FOREIGN KEY(codePathology)\n",
    "    REFERENCES Pathology(code)\n",
    "      ON DELETE NO ACTION\n",
    "      ON UPDATE NO ACTION\n",
    ") AS SELECT idperson, codepathology\n",
    "FROM CSVREAD('../../data/faers-2017-dron/sideeffect.csv');\n",
    "\n",
    "CREATE TABLE DrugHierarchy(\n",
    "  codeDrug VARCHAR(200) NOT NULL,\n",
    "  parent VARCHAR(200),\n",
    "  FOREIGN KEY(codeDrug)\n",
    "    REFERENCES Drug(code)\n",
    "      ON DELETE NO ACTION\n",
    "      ON UPDATE NO ACTION,\n",
    "  FOREIGN KEY(parent)\n",
    "    REFERENCES Drug(code)\n",
    "      ON DELETE NO ACTION\n",
    "      ON UPDATE NO ACTION\n",
    ") AS SELECT codedrug, parent\n",
    "FROM CSVREAD('../../data/faers-2017-dron/drughierarchy.csv');"
   ]
  },
  {
   "cell_type": "code",
   "execution_count": 6,
   "metadata": {},
   "outputs": [
    {
     "ename": "org.h2.jdbc.JdbcSQLException",
     "evalue": " Table \"PERSON\" not found; SQL statement",
     "output_type": "error",
     "traceback": [
      "\u001b[1;31morg.h2.jdbc.JdbcSQLException: Table \"PERSON\" not found; SQL statement:\u001b[0;0m",
      "\u001b[1;31mSELECT * FROM Person [42102-197]\u001b[0;0m"
     ]
    }
   ],
   "source": [
    "SELECT * FROM Person;\n",
    "SELECT * FROM Drug;\n",
    "SELECT * FROM Pathology;\n",
    "SELECT * FROM Indication;\n",
    "SELECT * FROM SideEffect;\n",
    "SELECT * FROM DrugHierarchy;"
   ]
  },
  {
   "cell_type": "code",
   "execution_count": null,
   "metadata": {},
   "outputs": [],
   "source": []
  }
 ],
 "metadata": {
  "kernelspec": {
   "display_name": "SQL",
   "language": "SQL",
   "name": "sql"
  },
  "language_info": {
   "codemirror_mode": "sql",
   "file_extension": ".sql",
   "mimetype": "",
   "name": "SQL",
   "nbconverter_exporter": "",
   "version": ""
  },
  "toc": {
   "base_numbering": 1,
   "nav_menu": {},
   "number_sections": false,
   "sideBar": false,
   "skip_h1_title": false,
   "title_cell": "Table of Contents",
   "title_sidebar": "Contents",
   "toc_cell": false,
   "toc_position": {},
   "toc_section_display": false,
   "toc_window_display": false
  }
 },
 "nbformat": 4,
 "nbformat_minor": 2
}
